{
 "cells": [
  {
   "cell_type": "markdown",
   "metadata": {},
   "source": [
    "## Converting STAC catalogs to Intake catalogs\n",
    "This notebook provides a brief example of the conversion process from STAC to Intake using the Sat-STAC library. \n",
    "\n",
    "Note: To ensure that code runs as expected, open the notebook in the conda environment provided in `environment.yml`, or ensure that the dependencies listed there are installed."
   ]
  },
  {
   "cell_type": "code",
   "execution_count": 29,
   "metadata": {},
   "outputs": [],
   "source": [
    "import yaml\n",
    "from satstac import Catalog, Collection, Item"
   ]
  },
  {
   "cell_type": "markdown",
   "metadata": {},
   "source": [
    "## Examining catalog structure\n",
    "Note: Sat-STAC's `Catalog.items` method iterates through all items which descend from the given catalog. There doesn't seem to be a simple way to obtain the set of children which are direct descendents of a catalog. To avoid duplication, the block below only displays the catalog/collection structure."
   ]
  },
  {
   "cell_type": "code",
   "execution_count": 30,
   "metadata": {},
   "outputs": [
    {
     "name": "stdout",
     "output_type": "stream",
     "text": [
      "planet-disaster-data\n",
      "\thurricane-harvey\n",
      "\t\thurricane-harvey-0831\n"
     ]
    }
   ],
   "source": [
    "def traverse(cat, level=0):\n",
    "    print('\\t' * level + cat.id)\n",
    "    for child in cat.children():\n",
    "        if isinstance(child, Catalog):\n",
    "            traverse(child, level+1)\n",
    "\n",
    "cat = Catalog.open(\"https://storage.googleapis.com/pdd-stac/disasters/catalog.json\")\n",
    "traverse(cat)"
   ]
  },
  {
   "cell_type": "markdown",
   "metadata": {},
   "source": [
    "## Examining catalog items\n",
    "The block below displays the assets of a single catalog item"
   ]
  },
  {
   "cell_type": "code",
   "execution_count": 31,
   "metadata": {},
   "outputs": [
    {
     "name": "stdout",
     "output_type": "stream",
     "text": [
      "20170831_172754_101c {'thumbnail': {'href': 'https://storage.googleapis.com/pdd-stac/disasters/hurricane-harvey/0831/20170831_172754_101c_thumb_large.png', 'title': 'Thumbnail', 'type': 'image/png'}, 'analytic': {'href': 'https://storage.googleapis.com/pdd-stac/disasters/hurricane-harvey/0831/20170831_172754_101c_3B_AnalyticMS.tif', 'title': 'PSScene4Band Analytic GeoTIFF', 'pl:type': 'https://api.planet.com/data/v1/asset-types/analytic', 'type': 'image/vnd.stac.geotiff; cloud-optimized=true'}, 'analytic_xml': {'href': 'https://storage.googleapis.com/pdd-stac/disasters/hurricane-harvey/0831/20170831_172754_101c_3B_AnalyticMS_metadata.xml', 'title': 'PSScene4Band XML Metadata', 'pl:type': 'https://api.planet.com/data/v1/asset-types/analytic_xml', 'type': 'text/xml'}, 'udm': {'href': 'https://storage.googleapis.com/pdd-stac/disasters/hurricane-harvey/0831/20170831_172754_101c_3B_AnalyticMS_DN_udm.tif', 'title': 'PSScene4Band Unusable Data Mask', 'pl:type': 'https://api.planet.com/data/v1/asset-types/udm', 'type': 'image/vnd.stac.geotiff; cloud-optimized=true'}, 'visual': {'href': 'https://storage.googleapis.com/pdd-stac/disasters/hurricane-harvey/0831/20170831_172754_101c_3b_Visual.tif', 'title': 'PSScene3Band Visual GeoTIFF', 'pl:type': 'https://api.planet.com/data/v1/asset-types/visual', 'type': 'image/vnd.stac.geotiff; cloud-optimized=true'}}\n"
     ]
    }
   ],
   "source": [
    "item = next(cat.items())\n",
    "print(item, item.assets)"
   ]
  },
  {
   "cell_type": "markdown",
   "metadata": {},
   "source": [
    "## Converting STAC catalog to Intake Catalog\n",
    "The block below converts a STAC catalog to an Intake-compatable `catalog.yml` file. The method `get_driver` maps datatypes to their appropriate drivers, while `to_intake` outputs a correctly-formated object describing the catalog.\n",
    "\n",
    "Note: This process will need to be extended to handle a wider array of filetypes, and output item-specific metadata and driver arguments, such as chunk size, where possible."
   ]
  },
  {
   "cell_type": "code",
   "execution_count": 32,
   "metadata": {},
   "outputs": [],
   "source": [
    "def get_driver(datatype):\n",
    "    drivers = {\n",
    "        'application/netcdf' :  'netcdf',\n",
    "        'image/vnd.stac.geotiff' : 'rasterio',\n",
    "        'image/vnd.stac.geotiff; cloud-optimized=true' : 'rasterio',\n",
    "        'image/png' : \"xarray_image\",\n",
    "        'image/jpg' : \"xarray_image\",\n",
    "        'image/jpeg' : \"xarray_image\",\n",
    "        'text/xml' : 'textfiles',\n",
    "    }\n",
    "    return drivers.get(datatype, datatype)\n",
    "    \n",
    "\n",
    "def to_intake(catalog):\n",
    "    sources = {}\n",
    "    for item in catalog.items():\n",
    "        for key, value in item.assets.items():\n",
    "            sources[item.id + key] = {\n",
    "                'description': value.get('title', key),\n",
    "                'driver': get_driver(value['type']),\n",
    "                'args': {\n",
    "                    'urlpath': value['href'],\n",
    "                    'chunks': {}\n",
    "                }\n",
    "            } \n",
    "    return {\n",
    "        'metadata': {\n",
    "            \"version\": 1\n",
    "        },\n",
    "        'plugins': {\n",
    "            'source': [{'module': 'intake_xarray'}]\n",
    "        },\n",
    "        'sources': sources\n",
    "    }\n",
    "\n",
    "with open('catalog.yml', 'w') as outfile: \n",
    "    yaml.dump(to_intake(cat), outfile, default_flow_style=False)"
   ]
  },
  {
   "cell_type": "markdown",
   "metadata": {},
   "source": [
    "## Examining the converted Intake catalog\n",
    "The block below opens up a GUI where the converted intake catalog can be examined and browser"
   ]
  },
  {
   "cell_type": "code",
   "execution_count": 28,
   "metadata": {},
   "outputs": [
    {
     "data": {
      "application/vnd.jupyter.widget-view+json": {
       "model_id": "f5d802f53b494dc0bc0e4da9a661f407",
       "version_major": 2,
       "version_minor": 0
      },
      "text/plain": [
       "Intake GUI instance: to get widget to display, you must install ipy/jupyter-widgets, run in a notebook and, in the case of jupyter-lab, install the jlab extension."
      ]
     },
     "metadata": {},
     "output_type": "display_data"
    }
   ],
   "source": [
    "import intake\n",
    "intake.gui"
   ]
  },
  {
   "cell_type": "markdown",
   "metadata": {},
   "source": [
    "## Accessing items through Intake \n",
    "The block below demonstrates how catalog items can be accessed through intake and loaded. \n",
    "\n",
    "Note: Data structures other than Dask Arrays have not been tested yet"
   ]
  },
  {
   "cell_type": "code",
   "execution_count": 33,
   "metadata": {},
   "outputs": [
    {
     "data": {
      "text/plain": [
       "<xarray.DataArray (band: 3, y: 27671, x: 28122)>\n",
       "dask.array<shape=(3, 27671, 28122), dtype=uint8, chunksize=(3, 27671, 28122)>\n",
       "Coordinates:\n",
       "  * band     (band) int64 1 2 3\n",
       "  * y        (y) float64 3.384e+06 3.384e+06 3.384e+06 ... 3.359e+06 3.359e+06\n",
       "  * x        (x) float64 -1.063e+07 -1.063e+07 ... -1.06e+07 -1.06e+07\n",
       "Attributes:\n",
       "    transform:   (0.9156731177980102, 0.0, -10627664.662946375, 0.0, -0.91567...\n",
       "    crs:         +init=epsg:3857\n",
       "    res:         (0.9156731177980102, 0.9156731177980102)\n",
       "    is_tiled:    1\n",
       "    nodatavals:  (nan, nan, nan)"
      ]
     },
     "execution_count": 33,
     "metadata": {},
     "output_type": "execute_result"
    }
   ],
   "source": [
    "cat = intake.open_catalog('catalog.yml')\n",
    "tif = cat['20170831_162740_ssc1d1visual']\n",
    "tif.to_dask()"
   ]
  }
 ],
 "metadata": {
  "kernelspec": {
   "display_name": "Python [conda env:stac] *",
   "language": "python",
   "name": "conda-env-stac-py"
  },
  "language_info": {
   "codemirror_mode": {
    "name": "ipython",
    "version": 3
   },
   "file_extension": ".py",
   "mimetype": "text/x-python",
   "name": "python",
   "nbconvert_exporter": "python",
   "pygments_lexer": "ipython3",
   "version": "3.6.7"
  }
 },
 "nbformat": 4,
 "nbformat_minor": 2
}
